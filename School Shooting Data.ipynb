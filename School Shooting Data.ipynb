{
 "cells": [
  {
   "cell_type": "code",
   "execution_count": 4,
   "id": "2b2c2ff9",
   "metadata": {},
   "outputs": [],
   "source": [
    "import pandas as pd\n",
    "import matplotlib.pyplot as plt\n",
    "import os"
   ]
  },
  {
   "cell_type": "code",
   "execution_count": 10,
   "id": "d08f05c3",
   "metadata": {},
   "outputs": [],
   "source": [
    "df = pd.read_csv(\"dataset.csv\")"
   ]
  },
  {
   "cell_type": "code",
   "execution_count": 12,
   "id": "1609d78d",
   "metadata": {},
   "outputs": [
    {
     "data": {
      "text/html": [
       "<div>\n",
       "<style scoped>\n",
       "    .dataframe tbody tr th:only-of-type {\n",
       "        vertical-align: middle;\n",
       "    }\n",
       "\n",
       "    .dataframe tbody tr th {\n",
       "        vertical-align: top;\n",
       "    }\n",
       "\n",
       "    .dataframe thead th {\n",
       "        text-align: right;\n",
       "    }\n",
       "</style>\n",
       "<table border=\"1\" class=\"dataframe\">\n",
       "  <thead>\n",
       "    <tr style=\"text-align: right;\">\n",
       "      <th></th>\n",
       "      <th>LONCOD</th>\n",
       "      <th>LATCOD</th>\n",
       "      <th>CDCODE</th>\n",
       "      <th>year</th>\n",
       "      <th>school</th>\n",
       "      <th>city</th>\n",
       "      <th>state</th>\n",
       "      <th>address</th>\n",
       "      <th>urbanrural</th>\n",
       "      <th>race</th>\n",
       "      <th>killed</th>\n",
       "      <th>injured</th>\n",
       "      <th>victims</th>\n",
       "      <th>date</th>\n",
       "      <th>type</th>\n",
       "      <th>NCESSCH</th>\n",
       "      <th>time</th>\n",
       "    </tr>\n",
       "  </thead>\n",
       "  <tbody>\n",
       "    <tr>\n",
       "      <th>0</th>\n",
       "      <td>-75.584900</td>\n",
       "      <td>39.668100</td>\n",
       "      <td>1000.0</td>\n",
       "      <td>2009</td>\n",
       "      <td>William Penn High School</td>\n",
       "      <td>New Castle</td>\n",
       "      <td>Delaware</td>\n",
       "      <td>713 E Basin Rd</td>\n",
       "      <td>suburbtown</td>\n",
       "      <td>BLACK</td>\n",
       "      <td>0</td>\n",
       "      <td>1</td>\n",
       "      <td>1</td>\n",
       "      <td>8-Jan-09</td>\n",
       "      <td>High School</td>\n",
       "      <td>1.000230e+11</td>\n",
       "      <td>8:30PM</td>\n",
       "    </tr>\n",
       "    <tr>\n",
       "      <th>1</th>\n",
       "      <td>-87.617500</td>\n",
       "      <td>41.839900</td>\n",
       "      <td>1701.0</td>\n",
       "      <td>2009</td>\n",
       "      <td>Dunbar Vocational Career Academy</td>\n",
       "      <td>Chicago</td>\n",
       "      <td>Illinois</td>\n",
       "      <td>3000 S King Dr</td>\n",
       "      <td>urban</td>\n",
       "      <td>BLACK</td>\n",
       "      <td>0</td>\n",
       "      <td>5</td>\n",
       "      <td>5</td>\n",
       "      <td>9-Jan-09</td>\n",
       "      <td>High School</td>\n",
       "      <td>1.709930e+11</td>\n",
       "      <td>8:00PM</td>\n",
       "    </tr>\n",
       "    <tr>\n",
       "      <th>2</th>\n",
       "      <td>-90.165100</td>\n",
       "      <td>38.565700</td>\n",
       "      <td>1712.0</td>\n",
       "      <td>2009</td>\n",
       "      <td>Cahokia High School</td>\n",
       "      <td>Cahokia</td>\n",
       "      <td>Illinois</td>\n",
       "      <td>800 Range Ln</td>\n",
       "      <td>suburbtown</td>\n",
       "      <td>BLACK</td>\n",
       "      <td>1</td>\n",
       "      <td>0</td>\n",
       "      <td>1</td>\n",
       "      <td>23-Jan-09</td>\n",
       "      <td>High School</td>\n",
       "      <td>1.708040e+11</td>\n",
       "      <td>7:20PM</td>\n",
       "    </tr>\n",
       "    <tr>\n",
       "      <th>3</th>\n",
       "      <td>-78.311800</td>\n",
       "      <td>35.831500</td>\n",
       "      <td>3713.0</td>\n",
       "      <td>2009</td>\n",
       "      <td>Zebulon Middle School</td>\n",
       "      <td>Zebulon</td>\n",
       "      <td>North Carolina</td>\n",
       "      <td>Halifax Road and New Oak Street</td>\n",
       "      <td>suburbtown</td>\n",
       "      <td>BLACK</td>\n",
       "      <td>0</td>\n",
       "      <td>1</td>\n",
       "      <td>1</td>\n",
       "      <td>11-Feb-09</td>\n",
       "      <td>Middle School</td>\n",
       "      <td>3.704720e+11</td>\n",
       "      <td>6:00AM</td>\n",
       "    </tr>\n",
       "    <tr>\n",
       "      <th>4</th>\n",
       "      <td>-83.113977</td>\n",
       "      <td>42.383593</td>\n",
       "      <td>NaN</td>\n",
       "      <td>2009</td>\n",
       "      <td>Central High School</td>\n",
       "      <td>Detroit</td>\n",
       "      <td>Michigan</td>\n",
       "      <td>2425 Tuxedo St</td>\n",
       "      <td>urban</td>\n",
       "      <td>NaN</td>\n",
       "      <td>0</td>\n",
       "      <td>1</td>\n",
       "      <td>1</td>\n",
       "      <td>17-Feb-09</td>\n",
       "      <td>High School</td>\n",
       "      <td>2.601103e+11</td>\n",
       "      <td>2:20PM</td>\n",
       "    </tr>\n",
       "    <tr>\n",
       "      <th>5</th>\n",
       "      <td>-78.991700</td>\n",
       "      <td>35.084300</td>\n",
       "      <td>3702.0</td>\n",
       "      <td>2009</td>\n",
       "      <td>Westover High School</td>\n",
       "      <td>Fayetteville</td>\n",
       "      <td>North Carolina</td>\n",
       "      <td>277 Bonanza Dr</td>\n",
       "      <td>urban</td>\n",
       "      <td>BLACK</td>\n",
       "      <td>0</td>\n",
       "      <td>1</td>\n",
       "      <td>1</td>\n",
       "      <td>6-Mar-09</td>\n",
       "      <td>High School</td>\n",
       "      <td>3.700011e+11</td>\n",
       "      <td>10:00PM</td>\n",
       "    </tr>\n",
       "    <tr>\n",
       "      <th>6</th>\n",
       "      <td>-77.413000</td>\n",
       "      <td>37.530200</td>\n",
       "      <td>5103.0</td>\n",
       "      <td>2009</td>\n",
       "      <td>Chimborazo Elementary School</td>\n",
       "      <td>Richmond</td>\n",
       "      <td>Virginia</td>\n",
       "      <td>3000 East Marshall Street</td>\n",
       "      <td>urban</td>\n",
       "      <td>BLACK</td>\n",
       "      <td>1</td>\n",
       "      <td>0</td>\n",
       "      <td>1</td>\n",
       "      <td>13-May-09</td>\n",
       "      <td>Elementary School</td>\n",
       "      <td>5.103240e+11</td>\n",
       "      <td>7:40PM</td>\n",
       "    </tr>\n",
       "    <tr>\n",
       "      <th>7</th>\n",
       "      <td>-84.534800</td>\n",
       "      <td>38.070500</td>\n",
       "      <td>2106.0</td>\n",
       "      <td>2009</td>\n",
       "      <td>Leestown Middle School</td>\n",
       "      <td>Lexington</td>\n",
       "      <td>Kentucky</td>\n",
       "      <td>2010 Leestown Rd</td>\n",
       "      <td>urban</td>\n",
       "      <td>BLACK</td>\n",
       "      <td>1</td>\n",
       "      <td>0</td>\n",
       "      <td>1</td>\n",
       "      <td>9-Jun-09</td>\n",
       "      <td>Middle School</td>\n",
       "      <td>2.101860e+11</td>\n",
       "      <td>8:02AM</td>\n",
       "    </tr>\n",
       "    <tr>\n",
       "      <th>8</th>\n",
       "      <td>-92.884700</td>\n",
       "      <td>42.580300</td>\n",
       "      <td>1901.0</td>\n",
       "      <td>2009</td>\n",
       "      <td>Aplington-Parkersburg High School</td>\n",
       "      <td>Parkersburg</td>\n",
       "      <td>Iowa</td>\n",
       "      <td>610 N Johnson St</td>\n",
       "      <td>rural</td>\n",
       "      <td>WHITE</td>\n",
       "      <td>1</td>\n",
       "      <td>0</td>\n",
       "      <td>1</td>\n",
       "      <td>24-Jun-09</td>\n",
       "      <td>High School</td>\n",
       "      <td>1.903750e+11</td>\n",
       "      <td>8:00AM</td>\n",
       "    </tr>\n",
       "    <tr>\n",
       "      <th>9</th>\n",
       "      <td>-72.529205</td>\n",
       "      <td>40.996241</td>\n",
       "      <td>3601.0</td>\n",
       "      <td>2009</td>\n",
       "      <td>Mattituck High School</td>\n",
       "      <td>Mattituck</td>\n",
       "      <td>New York</td>\n",
       "      <td>15125 Main Rd</td>\n",
       "      <td>suburbtown</td>\n",
       "      <td>WHITE</td>\n",
       "      <td>0</td>\n",
       "      <td>1</td>\n",
       "      <td>1</td>\n",
       "      <td>8-Oct-09</td>\n",
       "      <td>High School</td>\n",
       "      <td>3.600021e+11</td>\n",
       "      <td>1:50PM</td>\n",
       "    </tr>\n",
       "  </tbody>\n",
       "</table>\n",
       "</div>"
      ],
      "text/plain": [
       "      LONCOD     LATCOD  CDCODE  year                             school  \\\n",
       "0 -75.584900  39.668100  1000.0  2009           William Penn High School   \n",
       "1 -87.617500  41.839900  1701.0  2009   Dunbar Vocational Career Academy   \n",
       "2 -90.165100  38.565700  1712.0  2009                Cahokia High School   \n",
       "3 -78.311800  35.831500  3713.0  2009              Zebulon Middle School   \n",
       "4 -83.113977  42.383593     NaN  2009                Central High School   \n",
       "5 -78.991700  35.084300  3702.0  2009               Westover High School   \n",
       "6 -77.413000  37.530200  5103.0  2009       Chimborazo Elementary School   \n",
       "7 -84.534800  38.070500  2106.0  2009             Leestown Middle School   \n",
       "8 -92.884700  42.580300  1901.0  2009  Aplington-Parkersburg High School   \n",
       "9 -72.529205  40.996241  3601.0  2009              Mattituck High School   \n",
       "\n",
       "           city           state                          address  urbanrural  \\\n",
       "0    New Castle        Delaware                   713 E Basin Rd  suburbtown   \n",
       "1       Chicago        Illinois                   3000 S King Dr       urban   \n",
       "2       Cahokia        Illinois                     800 Range Ln  suburbtown   \n",
       "3       Zebulon  North Carolina  Halifax Road and New Oak Street  suburbtown   \n",
       "4       Detroit        Michigan                   2425 Tuxedo St       urban   \n",
       "5  Fayetteville  North Carolina                   277 Bonanza Dr       urban   \n",
       "6      Richmond        Virginia        3000 East Marshall Street       urban   \n",
       "7     Lexington        Kentucky                 2010 Leestown Rd       urban   \n",
       "8   Parkersburg            Iowa                 610 N Johnson St       rural   \n",
       "9     Mattituck        New York                    15125 Main Rd  suburbtown   \n",
       "\n",
       "    race  killed  injured  victims       date               type  \\\n",
       "0  BLACK       0        1        1   8-Jan-09        High School   \n",
       "1  BLACK       0        5        5   9-Jan-09        High School   \n",
       "2  BLACK       1        0        1  23-Jan-09        High School   \n",
       "3  BLACK       0        1        1  11-Feb-09      Middle School   \n",
       "4    NaN       0        1        1  17-Feb-09        High School   \n",
       "5  BLACK       0        1        1   6-Mar-09        High School   \n",
       "6  BLACK       1        0        1  13-May-09  Elementary School   \n",
       "7  BLACK       1        0        1   9-Jun-09      Middle School   \n",
       "8  WHITE       1        0        1  24-Jun-09        High School   \n",
       "9  WHITE       0        1        1   8-Oct-09        High School   \n",
       "\n",
       "        NCESSCH     time  \n",
       "0  1.000230e+11   8:30PM  \n",
       "1  1.709930e+11   8:00PM  \n",
       "2  1.708040e+11   7:20PM  \n",
       "3  3.704720e+11   6:00AM  \n",
       "4  2.601103e+11   2:20PM  \n",
       "5  3.700011e+11  10:00PM  \n",
       "6  5.103240e+11   7:40PM  \n",
       "7  2.101860e+11   8:02AM  \n",
       "8  1.903750e+11   8:00AM  \n",
       "9  3.600021e+11   1:50PM  "
      ]
     },
     "execution_count": 12,
     "metadata": {},
     "output_type": "execute_result"
    }
   ],
   "source": [
    "df.head(10)"
   ]
  },
  {
   "cell_type": "code",
   "execution_count": 28,
   "id": "b6961909",
   "metadata": {},
   "outputs": [
    {
     "data": {
      "text/plain": [
       "array(['suburbtown', 'urban', 'rural', nan], dtype=object)"
      ]
     },
     "execution_count": 28,
     "metadata": {},
     "output_type": "execute_result"
    }
   ],
   "source": [
    "df[\"urbanrural\"].unique()"
   ]
  },
  {
   "cell_type": "code",
   "execution_count": 84,
   "id": "e503722a",
   "metadata": {},
   "outputs": [
    {
     "data": {
      "text/plain": [
       "182"
      ]
     },
     "execution_count": 84,
     "metadata": {},
     "output_type": "execute_result"
    }
   ],
   "source": [
    "suburbtown_df = df[df[\"urbanrural\"] == \"suburbtown\"]\n",
    "suburbtown_df.head(50)\n",
    "suburbtown_df[\"injured\"].sum() #102\n",
    "suburbtown_df[\"killed\"].sum() #80\n",
    "suburbtown_df[\"victims\"].sum() #182\n",
    "\n"
   ]
  },
  {
   "cell_type": "markdown",
   "id": "ae54eb2d",
   "metadata": {},
   "source": [
    "## suburbtown victim analysis = killed (80), Injured (102)"
   ]
  },
  {
   "cell_type": "code",
   "execution_count": null,
   "id": "32c3315a",
   "metadata": {},
   "outputs": [],
   "source": []
  },
  {
   "cell_type": "code",
   "execution_count": 82,
   "id": "d0a8736b",
   "metadata": {},
   "outputs": [
    {
     "data": {
      "text/plain": [
       "23"
      ]
     },
     "execution_count": 82,
     "metadata": {},
     "output_type": "execute_result"
    }
   ],
   "source": [
    "urban_df=df[df[\"urbanrural\"] == \"urban\"]\n",
    "urban_df.head(10)\n",
    "urban_df[\"victims\"].sum() #119\n",
    "urban_df[\"injured\"].sum() #96\n",
    "urban_df[\"killed\"].sum() #23\n"
   ]
  },
  {
   "cell_type": "markdown",
   "id": "f73df452",
   "metadata": {},
   "source": [
    "## Urban victim analysis = killed (23), Injured (96)"
   ]
  },
  {
   "cell_type": "code",
   "execution_count": 92,
   "id": "b50fdb66",
   "metadata": {},
   "outputs": [
    {
     "data": {
      "text/plain": [
       "11"
      ]
     },
     "execution_count": 92,
     "metadata": {},
     "output_type": "execute_result"
    }
   ],
   "source": [
    "rural_df=df[df[\"urbanrural\"] == \"rural\"]\n",
    "rural_df.head(10)\n",
    "rural_df[\"victims\"].sum() #50\n",
    "rural_df[\"injured\"].sum() #39\n",
    "rural_df[\"killed\"].sum() #11\n",
    "\n"
   ]
  },
  {
   "cell_type": "markdown",
   "id": "98d46543",
   "metadata": {},
   "source": [
    "## Rural Victim analysis = killed (11), injured (39)"
   ]
  },
  {
   "cell_type": "code",
   "execution_count": null,
   "id": "c19c76bf",
   "metadata": {},
   "outputs": [],
   "source": []
  },
  {
   "cell_type": "markdown",
   "id": "deb59023",
   "metadata": {},
   "source": [
    "## Plotting a barchat to show the urban-rural areas with the most victims"
   ]
  },
  {
   "cell_type": "code",
   "execution_count": 177,
   "id": "9b89d136",
   "metadata": {},
   "outputs": [],
   "source": [
    "x = ['suburbtown','urban','rural']\n",
    "y = [182,119,50]"
   ]
  },
  {
   "cell_type": "code",
   "execution_count": 211,
   "id": "864692ad",
   "metadata": {},
   "outputs": [
    {
     "data": {
      "image/png": "[encoded data removed]",
      "text/plain": [
       "<Figure size 640x480 with 1 Axes>"
      ]
     },
     "metadata": {},
     "output_type": "display_data"
    }
   ],
   "source": [
    "bars=plt.bar(x, y,)\n",
    "plt.title(\"VICTIM ANALYSIS\")\n",
    "bars[0].set_hatch(\"/\")\n",
    "bars[1].set_hatch(\"o\")\n",
    "bars[2].set_hatch(\"|\")\n",
    "plt.xlabel('URBAN-RURAL AREAS')\n",
    "plt.ylabel('ATTACKS')\n",
    "plt.savefig(\"Victim Analysis.jpg\", dpi = 400)\n",
    "plt.show()"
   ]
  },
  {
   "cell_type": "code",
   "execution_count": null,
   "id": "46541a34",
   "metadata": {},
   "outputs": [],
   "source": []
  },
  {
   "cell_type": "code",
   "execution_count": null,
   "id": "52dcd850",
   "metadata": {},
   "outputs": [],
   "source": []
  },
  {
   "cell_type": "code",
   "execution_count": null,
   "id": "79d27df2",
   "metadata": {},
   "outputs": [],
   "source": []
  },
  {
   "cell_type": "code",
   "execution_count": null,
   "id": "eceb34a4",
   "metadata": {},
   "outputs": [],
   "source": []
  },
  {
   "cell_type": "code",
   "execution_count": null,
   "id": "e9a7198e",
   "metadata": {},
   "outputs": [],
   "source": []
  },
  {
   "cell_type": "code",
   "execution_count": null,
   "id": "32ed4fcc",
   "metadata": {},
   "outputs": [],
   "source": []
  },
  {
   "cell_type": "code",
   "execution_count": null,
   "id": "dca7741b",
   "metadata": {},
   "outputs": [],
   "source": []
  },
  {
   "cell_type": "code",
   "execution_count": null,
   "id": "ef678979",
   "metadata": {},
   "outputs": [],
   "source": []
  },
  {
   "cell_type": "code",
   "execution_count": null,
   "id": "53086fac",
   "metadata": {},
   "outputs": [],
   "source": []
  },
  {
   "cell_type": "code",
   "execution_count": null,
   "id": "ccda56bf",
   "metadata": {},
   "outputs": [],
   "source": []
  },
  {
   "cell_type": "code",
   "execution_count": null,
   "id": "1929a568",
   "metadata": {},
   "outputs": [],
   "source": []
  }
 ],
 "metadata": {
  "kernelspec": {
   "display_name": "Python 3 (ipykernel)",
   "language": "python",
   "name": "python3"
  },
  "language_info": {
   "codemirror_mode": {
    "name": "ipython",
    "version": 3
   },
   "file_extension": ".py",
   "mimetype": "text/x-python",
   "name": "python",
   "nbconvert_exporter": "python",
   "pygments_lexer": "ipython3",
   "version": "3.10.9"
  }
 },
 "nbformat": 4,
 "nbformat_minor": 5
}
